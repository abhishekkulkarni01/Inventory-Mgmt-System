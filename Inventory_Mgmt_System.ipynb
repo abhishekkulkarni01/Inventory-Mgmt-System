{
  "nbformat": 4,
  "nbformat_minor": 0,
  "metadata": {
    "colab": {
      "name": "Untitled0.ipynb",
      "provenance": []
    },
    "kernelspec": {
      "name": "python3",
      "display_name": "Python 3"
    },
    "language_info": {
      "name": "python"
    }
  },
  "cells": [
    {
      "cell_type": "code",
      "metadata": {
        "id": "Sv9L5xJYwfgv"
      },
      "source": [
        "data= {123456: {\"brand\": \"Samsung\" , \"cost\": 11234, \"type\" : \"tablet\"},\n",
        "      789101: {\"brand\": \"Iphone\", \"cost\": 115678, \"type\" : \"macbook\"},\n",
        "      112131: {\"brand\": \"Nokia\", \"cost\": 38984, \"type\" :\"smartphone\" }}"
      ],
      "execution_count": 13,
      "outputs": []
    },
    {
      "cell_type": "code",
      "metadata": {
        "colab": {
          "base_uri": "https://localhost:8080/"
        },
        "id": "ED-b_9-00jYI",
        "outputId": "7f24aeb1-2c06-4fe7-fe26-23bd296553f1"
      },
      "source": [
        "reg = 123456\n",
        "\n",
        "print(data[reg]['brand'])\n",
        "print(data[reg]['cost'])\n",
        "print(data[reg]['type'])"
      ],
      "execution_count": 14,
      "outputs": [
        {
          "output_type": "stream",
          "name": "stdout",
          "text": [
            "Samsung\n",
            "11234\n",
            "tablet\n"
          ]
        }
      ]
    },
    {
      "cell_type": "code",
      "metadata": {
        "colab": {
          "base_uri": "https://localhost:8080/"
        },
        "id": "segweUfb0o3_",
        "outputId": "536f3278-2ca7-434f-e51b-c545b90c7726"
      },
      "source": [
        "reg = 789101\n",
        "\n",
        "print(data[reg]['brand'])\n",
        "print(data[reg]['cost'])\n",
        "print(data[reg]['type'])"
      ],
      "execution_count": 15,
      "outputs": [
        {
          "output_type": "stream",
          "name": "stdout",
          "text": [
            "Iphone\n",
            "115678\n",
            "macbook\n"
          ]
        }
      ]
    },
    {
      "cell_type": "code",
      "metadata": {
        "colab": {
          "base_uri": "https://localhost:8080/"
        },
        "id": "lUKx0pI100V3",
        "outputId": "d951c3be-8e24-492c-cb5d-146cb8b949bf"
      },
      "source": [
        "reg = 112131\n",
        "\n",
        "print(data[reg]['brand'])\n",
        "print(data[reg]['cost'])\n",
        "print(data[reg]['type'])"
      ],
      "execution_count": 16,
      "outputs": [
        {
          "output_type": "stream",
          "name": "stdout",
          "text": [
            "Nokia\n",
            "38984\n",
            "smartphone\n"
          ]
        }
      ]
    },
    {
      "cell_type": "code",
      "metadata": {
        "colab": {
          "base_uri": "https://localhost:8080/",
          "height": 52
        },
        "id": "RAd0a2mP04Wy",
        "outputId": "917d1e9e-4574-4560-b614-941673025187"
      },
      "source": [
        "import json\n",
        "js = json.dumps(data)\n",
        "js"
      ],
      "execution_count": 17,
      "outputs": [
        {
          "output_type": "execute_result",
          "data": {
            "application/vnd.google.colaboratory.intrinsic+json": {
              "type": "string"
            },
            "text/plain": [
              "'{\"123456\": {\"brand\": \"Samsung\", \"cost\": 11234, \"type\": \"tablet\"}, \"789101\": {\"brand\": \"Iphone\", \"cost\": 115678, \"type\": \"macbook\"}, \"112131\": {\"brand\": \"Nokia\", \"cost\": 38984, \"type\": \"smartphone\"}}'"
            ]
          },
          "metadata": {},
          "execution_count": 17
        }
      ]
    },
    {
      "cell_type": "code",
      "metadata": {
        "id": "2eptCX4X07Pm"
      },
      "source": [
        "fd = open('data.json','r')\n",
        "\n",
        "txt = fd.read()\n",
        "\n",
        "fd.close()"
      ],
      "execution_count": 19,
      "outputs": []
    },
    {
      "cell_type": "code",
      "metadata": {
        "id": "UzSGR2pQ1wNA"
      },
      "source": [
        "fd = open(\"data.json\",'r')\n",
        "r = fd.read()\n",
        "fd.close()\n",
        "\n",
        "data = json.loads(r)"
      ],
      "execution_count": 21,
      "outputs": []
    },
    {
      "cell_type": "code",
      "metadata": {
        "colab": {
          "base_uri": "https://localhost:8080/"
        },
        "id": "CKnWtF-D14Rb",
        "outputId": "d3784ed9-e6d1-4202-b7d7-fd05f4bc2ab9"
      },
      "source": [
        "prod_id = str(input(\"Enter product id:\"))\n",
        "brand = str(input(\"Enter name:\"))\n",
        "price= int(input(\"Enter price:\"))\n",
        "os = str(input(\"Enter os:\"))\n",
        "typ=str(input(\"Enter the type:\"))\n",
        "qn=int(input(\"Enter the quantity:\"))\n",
        "data[prod_id] = {'brand': brand, 'price': price, 'os': os, \"type\":typ, \"quantity\":qn}\n",
        "\n",
        "js = json.dumps(data)\n",
        "\n",
        "fd = open(\"data.json\",'w')\n",
        "fd.write(js)\n",
        "fd.close()"
      ],
      "execution_count": 22,
      "outputs": [
        {
          "name": "stdout",
          "output_type": "stream",
          "text": [
            "Enter product id:112356\n",
            "Enter name:Redmi\n",
            "Enter price:10500\n",
            "Enter os:Android\n",
            "Enter the type:Touch\n",
            "Enter the quantity:10\n"
          ]
        }
      ]
    },
    {
      "cell_type": "code",
      "metadata": {
        "colab": {
          "base_uri": "https://localhost:8080/"
        },
        "id": "hnq5pwD82N3q",
        "outputId": "03631c7a-14e1-464e-e591-e9996fa5dfc5"
      },
      "source": [
        "data"
      ],
      "execution_count": 23,
      "outputs": [
        {
          "output_type": "execute_result",
          "data": {
            "text/plain": [
              "{'1001': {'name': 'Apple', 'pr': 100, 'qn': 30},\n",
              " '1002': {'name': 'Banana', 'pr': 800, 'qn': 100},\n",
              " '1003': {'name': 'CoolDrinks', 'pr': 85, 'qn': 100},\n",
              " '1004': {'name': 'Candy', 'pr': 5, 'qn': 1000},\n",
              " '1005': {'name': 'Pen', 'pr': 20, 'qn': 100},\n",
              " '1006': {'name': 'Phone', 'pr': 50000, 'qn': 10},\n",
              " '1007': {'name': 'Mic', 'pr': 1500, 'qn': 0},\n",
              " '1008': {'name': 'Case', 'pr': 599, 'qn': 5},\n",
              " '1009': {'name': 'Keyboard', 'pr': 1999, 'qn': 10},\n",
              " '112356': {'brand': 'Redmi',\n",
              "  'os': 'Android',\n",
              "  'price': 10500,\n",
              "  'quantity': 10,\n",
              "  'type': 'Touch'}}"
            ]
          },
          "metadata": {},
          "execution_count": 23
        }
      ]
    },
    {
      "cell_type": "code",
      "metadata": {
        "id": "yJfc6JlM2XQX"
      },
      "source": [
        "del data['112356']"
      ],
      "execution_count": 25,
      "outputs": []
    },
    {
      "cell_type": "code",
      "metadata": {
        "id": "tXlZCSv62ia8"
      },
      "source": [
        "records = json.loads(r)"
      ],
      "execution_count": 26,
      "outputs": []
    },
    {
      "cell_type": "code",
      "metadata": {
        "colab": {
          "base_uri": "https://localhost:8080/"
        },
        "id": "vHikn2ta2lxj",
        "outputId": "6d140478-efb5-4bff-e10b-c07602cee7df"
      },
      "source": [
        "data"
      ],
      "execution_count": 27,
      "outputs": [
        {
          "output_type": "execute_result",
          "data": {
            "text/plain": [
              "{'1001': {'name': 'Apple', 'pr': 100, 'qn': 30},\n",
              " '1002': {'name': 'Banana', 'pr': 800, 'qn': 100},\n",
              " '1003': {'name': 'CoolDrinks', 'pr': 85, 'qn': 100},\n",
              " '1004': {'name': 'Candy', 'pr': 5, 'qn': 1000},\n",
              " '1005': {'name': 'Pen', 'pr': 20, 'qn': 100},\n",
              " '1006': {'name': 'Phone', 'pr': 50000, 'qn': 10},\n",
              " '1007': {'name': 'Mic', 'pr': 1500, 'qn': 0},\n",
              " '1008': {'name': 'Case', 'pr': 599, 'qn': 5},\n",
              " '1009': {'name': 'Keyboard', 'pr': 1999, 'qn': 10}}"
            ]
          },
          "metadata": {},
          "execution_count": 27
        }
      ]
    },
    {
      "cell_type": "code",
      "metadata": {
        "colab": {
          "base_uri": "https://localhost:8080/"
        },
        "id": "SY08qtAi2nQK",
        "outputId": "81644fe7-c6f6-496f-8a52-ccfe22da60e0"
      },
      "source": [
        "ui_prod  = str(input(\"Enter the product_Id: \"))\n",
        "ui_quant = int(input(\"Enter the quantity: \"))\n",
        "\n",
        "\n",
        "print(\"Product: \", records[ui_prod]['name'])\n",
        "print(\"Price: \", records[ui_prod]['pr'])\n",
        "print(\"Billing Amount: \", records[ui_prod]['pr'] * ui_quant)\n",
        "\n",
        "records[ui_prod]['qn'] = records[ui_prod]['qn'] - ui_quant"
      ],
      "execution_count": 32,
      "outputs": [
        {
          "output_type": "stream",
          "name": "stdout",
          "text": [
            "Enter the product_Id: 1006\n",
            "Enter the quantity: 9\n",
            "Product:  Phone\n",
            "Price:  50000\n",
            "Billing Amount:  450000\n"
          ]
        }
      ]
    },
    {
      "cell_type": "code",
      "metadata": {
        "id": "MxzaES6-3cnm"
      },
      "source": [
        "js = json.dumps(records)\n",
        "\n",
        "fd = open(\"data.json\",'w')\n",
        "fd.write(js)\n",
        "fd.close()"
      ],
      "execution_count": 34,
      "outputs": []
    },
    {
      "cell_type": "code",
      "metadata": {
        "colab": {
          "base_uri": "https://localhost:8080/"
        },
        "id": "-ks2ouq_3mNx",
        "outputId": "2280951a-f2fd-4f61-d78a-12a9443ee643"
      },
      "source": [
        "{'prod' : ui_prod, 'qn' : ui_quant, 'amount': records[ui_prod]['pr'] * ui_quant}"
      ],
      "execution_count": 35,
      "outputs": [
        {
          "output_type": "execute_result",
          "data": {
            "text/plain": [
              "{'amount': 450000, 'prod': '1006', 'qn': 9}"
            ]
          },
          "metadata": {},
          "execution_count": 35
        }
      ]
    },
    {
      "cell_type": "code",
      "metadata": {
        "id": "zqNyyvI73wq1"
      },
      "source": [
        "sales = {1 : {'prod' : ui_prod, 'qn' : ui_quant, 'amount': records[ui_prod]['pr'] * ui_quant},\n",
        "         2 : {'prod' : ui_prod, 'qn' : ui_quant, 'amount': records[ui_prod]['pr'] * ui_quant},\n",
        "         3 : {'prod' : ui_prod, 'qn' : ui_quant, 'amount': records[ui_prod]['pr'] * ui_quant}}"
      ],
      "execution_count": 37,
      "outputs": []
    },
    {
      "cell_type": "code",
      "metadata": {
        "colab": {
          "base_uri": "https://localhost:8080/",
          "height": 52
        },
        "id": "A_mh5_NE37fE",
        "outputId": "08c15923-db05-4b2e-d9fc-b8b7473e3867"
      },
      "source": [
        "sale = json.dumps(sales)\n",
        "sale"
      ],
      "execution_count": 38,
      "outputs": [
        {
          "output_type": "execute_result",
          "data": {
            "application/vnd.google.colaboratory.intrinsic+json": {
              "type": "string"
            },
            "text/plain": [
              "'{\"1\": {\"prod\": \"1006\", \"qn\": 9, \"amount\": 450000}, \"2\": {\"prod\": \"1006\", \"qn\": 9, \"amount\": 450000}, \"3\": {\"prod\": \"1006\", \"qn\": 9, \"amount\": 450000}}'"
            ]
          },
          "metadata": {},
          "execution_count": 38
        }
      ]
    }
  ]
}